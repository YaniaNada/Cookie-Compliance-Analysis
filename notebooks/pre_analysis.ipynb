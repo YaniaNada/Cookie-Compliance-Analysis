{
 "cells": [
  {
   "cell_type": "code",
   "execution_count": 1,
   "metadata": {},
   "outputs": [],
   "source": [
    "import pandas as pd\n",
    "import matplotlib.pyplot as plt\n",
    "import seaborn as sns"
   ]
  },
  {
   "cell_type": "code",
   "execution_count": 2,
   "metadata": {},
   "outputs": [],
   "source": [
    "# reading data from excel\n",
    "raw_data = pd.read_excel('cookie_compliance_data.xlsx')\n",
    "df = raw_data.copy()"
   ]
  },
  {
   "cell_type": "code",
   "execution_count": 3,
   "metadata": {},
   "outputs": [
    {
     "name": "stdout",
     "output_type": "stream",
     "text": [
      "   Cookie ID          Cookie Name          Domain  \\\n",
      "0          1  Chocolate Crinkle_2     spxflow.com   \n",
      "1          2          Nankhatai_1     hitachi.com   \n",
      "2          3    Chocolate Wafer_6  electrolux.com   \n",
      "\n",
      "   Expires / Max-Age (in seconds)       Origin  \\\n",
      "0                        60478299  First-party   \n",
      "1                               0  First-party   \n",
      "2                              -1  First-party   \n",
      "\n",
      "   SameParty (if cookie keeps data locally or sends it outside)     Purpose  \\\n",
      "0                                               True             Functional   \n",
      "1                                               True              Analytics   \n",
      "2                                               True             Functional   \n",
      "\n",
      "                                     Data Collected   Secure  HttpOnly  ...  \\\n",
      "0  Network Type; IP Address; Referring URL; Adver...   False      True  ...   \n",
      "1  Advertising Preferences; Device Information; V...   False     False  ...   \n",
      "2  Flash Version; Referring URL; Operating System...   False      True  ...   \n",
      "\n",
      "  SameSite       Path Consent Required Creation Date Last Accessed  Priority  \\\n",
      "0   Strict          /             True    03/03/2024    08/10/2024       Low   \n",
      "1   Strict  /products             True    01/14/2024    08/02/2024       Low   \n",
      "2      Lax      /user             True    09/07/2024    10/12/2024       Low   \n",
      "\n",
      "  Partitioned Size (KB)    Duration  Host Only  \n",
      "0        True       7.6  Persistent      False  \n",
      "1       False       6.3  Persistent       True  \n",
      "2       False       2.4     Session      False  \n",
      "\n",
      "[3 rows x 23 columns]\n"
     ]
    }
   ],
   "source": [
    "print(df.head(3))"
   ]
  },
  {
   "cell_type": "code",
   "execution_count": 4,
   "metadata": {},
   "outputs": [],
   "source": [
    "# Dropping irrelevant fields\n",
    "df.drop(['Cookie Name','Domain','Secure', 'HttpOnly', 'Cookie Banner', 'SameSite', 'Path', 'Priority', 'Partitioned','Creation Date', 'Last Accessed', 'Size (KB)', 'Host Only'], axis = 1, inplace = True)"
   ]
  },
  {
   "cell_type": "code",
   "execution_count": 5,
   "metadata": {},
   "outputs": [
    {
     "data": {
      "text/html": [
       "<div>\n",
       "<style scoped>\n",
       "    .dataframe tbody tr th:only-of-type {\n",
       "        vertical-align: middle;\n",
       "    }\n",
       "\n",
       "    .dataframe tbody tr th {\n",
       "        vertical-align: top;\n",
       "    }\n",
       "\n",
       "    .dataframe thead th {\n",
       "        text-align: right;\n",
       "    }\n",
       "</style>\n",
       "<table border=\"1\" class=\"dataframe\">\n",
       "  <thead>\n",
       "    <tr style=\"text-align: right;\">\n",
       "      <th></th>\n",
       "      <th>Cookie ID</th>\n",
       "      <th>Expires / Max-Age (in seconds)</th>\n",
       "      <th>Origin</th>\n",
       "      <th>SameParty (if cookie keeps data locally or sends it outside)</th>\n",
       "      <th>Purpose</th>\n",
       "      <th>Data Collected</th>\n",
       "      <th>Cookie Policy</th>\n",
       "      <th>Cookie Options</th>\n",
       "      <th>Consent Required</th>\n",
       "      <th>Duration</th>\n",
       "    </tr>\n",
       "  </thead>\n",
       "  <tbody>\n",
       "    <tr>\n",
       "      <th>0</th>\n",
       "      <td>1</td>\n",
       "      <td>60478299</td>\n",
       "      <td>First-party</td>\n",
       "      <td>True</td>\n",
       "      <td>Functional</td>\n",
       "      <td>Network Type; IP Address; Referring URL; Adver...</td>\n",
       "      <td>Cookie Policy\\n\\nIntroduction\\nWe use cookies ...</td>\n",
       "      <td>Decline All, Accept All, Customize cookies</td>\n",
       "      <td>True</td>\n",
       "      <td>Persistent</td>\n",
       "    </tr>\n",
       "    <tr>\n",
       "      <th>1</th>\n",
       "      <td>2</td>\n",
       "      <td>0</td>\n",
       "      <td>First-party</td>\n",
       "      <td>True</td>\n",
       "      <td>Analytics</td>\n",
       "      <td>Advertising Preferences; Device Information; V...</td>\n",
       "      <td>Cookie Policy\\n\\nIntroduction\\nWe use cookies ...</td>\n",
       "      <td>Accept All, Customize cookies</td>\n",
       "      <td>True</td>\n",
       "      <td>Persistent</td>\n",
       "    </tr>\n",
       "    <tr>\n",
       "      <th>2</th>\n",
       "      <td>3</td>\n",
       "      <td>-1</td>\n",
       "      <td>First-party</td>\n",
       "      <td>True</td>\n",
       "      <td>Functional</td>\n",
       "      <td>Flash Version; Referring URL; Operating System...</td>\n",
       "      <td>Cookie Policy\\n\\nIntroduction\\nWe use cookies ...</td>\n",
       "      <td>Decline All, Accept All, Customize cookies</td>\n",
       "      <td>True</td>\n",
       "      <td>Session</td>\n",
       "    </tr>\n",
       "    <tr>\n",
       "      <th>3</th>\n",
       "      <td>4</td>\n",
       "      <td>0</td>\n",
       "      <td>First-party</td>\n",
       "      <td>True</td>\n",
       "      <td>Service Improvement</td>\n",
       "      <td>Browser; Language Preferences; Download Histor...</td>\n",
       "      <td>Cookie Policy\\n\\nIntroduction\\nWe use cookies ...</td>\n",
       "      <td>Decline All, Accept All, Customize cookies</td>\n",
       "      <td>True</td>\n",
       "      <td>Session</td>\n",
       "    </tr>\n",
       "    <tr>\n",
       "      <th>4</th>\n",
       "      <td>5</td>\n",
       "      <td>0</td>\n",
       "      <td>First-party</td>\n",
       "      <td>True</td>\n",
       "      <td>Content Customization</td>\n",
       "      <td>Network Type; Visited Pages; Error Reports; Fl...</td>\n",
       "      <td>Cookie Policy\\n\\nIntroduction\\nWe use cookies ...</td>\n",
       "      <td>Accept All</td>\n",
       "      <td>True</td>\n",
       "      <td>Session</td>\n",
       "    </tr>\n",
       "  </tbody>\n",
       "</table>\n",
       "</div>"
      ],
      "text/plain": [
       "   Cookie ID  Expires / Max-Age (in seconds)       Origin  \\\n",
       "0          1                        60478299  First-party   \n",
       "1          2                               0  First-party   \n",
       "2          3                              -1  First-party   \n",
       "3          4                               0  First-party   \n",
       "4          5                               0  First-party   \n",
       "\n",
       "   SameParty (if cookie keeps data locally or sends it outside)  \\\n",
       "0                                               True              \n",
       "1                                               True              \n",
       "2                                               True              \n",
       "3                                               True              \n",
       "4                                               True              \n",
       "\n",
       "                 Purpose                                    Data Collected   \\\n",
       "0             Functional  Network Type; IP Address; Referring URL; Adver...   \n",
       "1              Analytics  Advertising Preferences; Device Information; V...   \n",
       "2             Functional  Flash Version; Referring URL; Operating System...   \n",
       "3    Service Improvement  Browser; Language Preferences; Download Histor...   \n",
       "4  Content Customization  Network Type; Visited Pages; Error Reports; Fl...   \n",
       "\n",
       "                                       Cookie Policy  \\\n",
       "0  Cookie Policy\\n\\nIntroduction\\nWe use cookies ...   \n",
       "1  Cookie Policy\\n\\nIntroduction\\nWe use cookies ...   \n",
       "2  Cookie Policy\\n\\nIntroduction\\nWe use cookies ...   \n",
       "3  Cookie Policy\\n\\nIntroduction\\nWe use cookies ...   \n",
       "4  Cookie Policy\\n\\nIntroduction\\nWe use cookies ...   \n",
       "\n",
       "                               Cookie Options  Consent Required    Duration  \n",
       "0  Decline All, Accept All, Customize cookies              True  Persistent  \n",
       "1               Accept All, Customize cookies              True  Persistent  \n",
       "2  Decline All, Accept All, Customize cookies              True     Session  \n",
       "3  Decline All, Accept All, Customize cookies              True     Session  \n",
       "4                                  Accept All              True     Session  "
      ]
     },
     "execution_count": 5,
     "metadata": {},
     "output_type": "execute_result"
    }
   ],
   "source": [
    "df.head()"
   ]
  },
  {
   "cell_type": "code",
   "execution_count": 6,
   "metadata": {},
   "outputs": [
    {
     "data": {
      "text/plain": [
       "0"
      ]
     },
     "execution_count": 6,
     "metadata": {},
     "output_type": "execute_result"
    }
   ],
   "source": [
    "# checking for duplicates\n",
    "df.duplicated().sum()"
   ]
  },
  {
   "cell_type": "code",
   "execution_count": 7,
   "metadata": {},
   "outputs": [
    {
     "data": {
      "text/plain": [
       "Cookie ID                                                        0\n",
       "Expires / Max-Age (in seconds)                                   0\n",
       "Origin                                                           0\n",
       "SameParty (if cookie keeps data locally or sends it outside)     0\n",
       "Purpose                                                          0\n",
       "Data Collected                                                   0\n",
       "Cookie Policy                                                    0\n",
       "Cookie Options                                                  66\n",
       "Consent Required                                                 0\n",
       "Duration                                                         0\n",
       "dtype: int64"
      ]
     },
     "execution_count": 7,
     "metadata": {},
     "output_type": "execute_result"
    }
   ],
   "source": [
    "# checking for nulls\n",
    "df.isnull().sum()"
   ]
  },
  {
   "cell_type": "code",
   "execution_count": 8,
   "metadata": {},
   "outputs": [
    {
     "data": {
      "text/html": [
       "<div>\n",
       "<style scoped>\n",
       "    .dataframe tbody tr th:only-of-type {\n",
       "        vertical-align: middle;\n",
       "    }\n",
       "\n",
       "    .dataframe tbody tr th {\n",
       "        vertical-align: top;\n",
       "    }\n",
       "\n",
       "    .dataframe thead th {\n",
       "        text-align: right;\n",
       "    }\n",
       "</style>\n",
       "<table border=\"1\" class=\"dataframe\">\n",
       "  <thead>\n",
       "    <tr style=\"text-align: right;\">\n",
       "      <th></th>\n",
       "      <th>Cookie ID</th>\n",
       "      <th>Expires / Max-Age (in seconds)</th>\n",
       "      <th>Origin</th>\n",
       "      <th>SameParty (if cookie keeps data locally or sends it outside)</th>\n",
       "      <th>Purpose</th>\n",
       "      <th>Data Collected</th>\n",
       "      <th>Cookie Policy</th>\n",
       "      <th>Cookie Options</th>\n",
       "      <th>Consent Required</th>\n",
       "      <th>Duration</th>\n",
       "    </tr>\n",
       "  </thead>\n",
       "  <tbody>\n",
       "    <tr>\n",
       "      <th>21</th>\n",
       "      <td>22</td>\n",
       "      <td>56396466</td>\n",
       "      <td>First-party</td>\n",
       "      <td>False</td>\n",
       "      <td>Market Research</td>\n",
       "      <td>Email Address; ISP; Device Information; Login ...</td>\n",
       "      <td>Cookie Policy\\n\\nIntroduction\\nWe use cookies ...</td>\n",
       "      <td>NaN</td>\n",
       "      <td>True</td>\n",
       "      <td>Persistent</td>\n",
       "    </tr>\n",
       "    <tr>\n",
       "      <th>60</th>\n",
       "      <td>61</td>\n",
       "      <td>0</td>\n",
       "      <td>First-party</td>\n",
       "      <td>False</td>\n",
       "      <td>Customer Support</td>\n",
       "      <td>Session Data; Subscription Status; Payment Inf...</td>\n",
       "      <td>Cookie Policy\\n\\nIntroduction\\nWe use cookies ...</td>\n",
       "      <td>NaN</td>\n",
       "      <td>True</td>\n",
       "      <td>Session</td>\n",
       "    </tr>\n",
       "    <tr>\n",
       "      <th>66</th>\n",
       "      <td>67</td>\n",
       "      <td>-1</td>\n",
       "      <td>First-party</td>\n",
       "      <td>True</td>\n",
       "      <td>Operational Efficiency</td>\n",
       "      <td>Network Type; Purchase History; Screen Resolut...</td>\n",
       "      <td>Cookie Policy\\n\\nIntroduction\\nWe use cookies ...</td>\n",
       "      <td>NaN</td>\n",
       "      <td>True</td>\n",
       "      <td>Session</td>\n",
       "    </tr>\n",
       "    <tr>\n",
       "      <th>73</th>\n",
       "      <td>74</td>\n",
       "      <td>3915088</td>\n",
       "      <td>Third-party</td>\n",
       "      <td>True</td>\n",
       "      <td>Customer Support</td>\n",
       "      <td>Email Address; Flash Version; Visited Pages; E...</td>\n",
       "      <td>Cookie Policy\\n\\nIntroduction\\nWe use cookies ...</td>\n",
       "      <td>NaN</td>\n",
       "      <td>True</td>\n",
       "      <td>Session</td>\n",
       "    </tr>\n",
       "    <tr>\n",
       "      <th>77</th>\n",
       "      <td>78</td>\n",
       "      <td>6276421</td>\n",
       "      <td>First-party</td>\n",
       "      <td>True</td>\n",
       "      <td>Compliance</td>\n",
       "      <td>JavaScript Enabled; Session Data; Screen Resol...</td>\n",
       "      <td>Cookie Policy\\n\\nIntroduction\\nWe use cookies ...</td>\n",
       "      <td>NaN</td>\n",
       "      <td>True</td>\n",
       "      <td>Persistent</td>\n",
       "    </tr>\n",
       "    <tr>\n",
       "      <th>...</th>\n",
       "      <td>...</td>\n",
       "      <td>...</td>\n",
       "      <td>...</td>\n",
       "      <td>...</td>\n",
       "      <td>...</td>\n",
       "      <td>...</td>\n",
       "      <td>...</td>\n",
       "      <td>...</td>\n",
       "      <td>...</td>\n",
       "      <td>...</td>\n",
       "    </tr>\n",
       "    <tr>\n",
       "      <th>695</th>\n",
       "      <td>696</td>\n",
       "      <td>0</td>\n",
       "      <td>Third-party</td>\n",
       "      <td>True</td>\n",
       "      <td>Service Improvement</td>\n",
       "      <td>Device Information; Session Data; Language Pre...</td>\n",
       "      <td>No policy informed</td>\n",
       "      <td>NaN</td>\n",
       "      <td>True</td>\n",
       "      <td>Persistent</td>\n",
       "    </tr>\n",
       "    <tr>\n",
       "      <th>726</th>\n",
       "      <td>727</td>\n",
       "      <td>0</td>\n",
       "      <td>First-party</td>\n",
       "      <td>True</td>\n",
       "      <td>Customer Feedback</td>\n",
       "      <td>Battery Level; Search Queries; Purchase Histor...</td>\n",
       "      <td>Cookie Policy\\n\\nIntroduction\\nWe use cookies ...</td>\n",
       "      <td>NaN</td>\n",
       "      <td>True</td>\n",
       "      <td>Session</td>\n",
       "    </tr>\n",
       "    <tr>\n",
       "      <th>727</th>\n",
       "      <td>728</td>\n",
       "      <td>25184472</td>\n",
       "      <td>First-party</td>\n",
       "      <td>True</td>\n",
       "      <td>User Experience</td>\n",
       "      <td>Search Queries; JavaScript Enabled; Email Addr...</td>\n",
       "      <td>Cookie Policy\\n\\nIntroduction\\nWe use cookies ...</td>\n",
       "      <td>NaN</td>\n",
       "      <td>True</td>\n",
       "      <td>Session</td>\n",
       "    </tr>\n",
       "    <tr>\n",
       "      <th>734</th>\n",
       "      <td>735</td>\n",
       "      <td>61850003</td>\n",
       "      <td>First-party</td>\n",
       "      <td>True</td>\n",
       "      <td>Functional</td>\n",
       "      <td>ISP; JavaScript Enabled; Language Preferences;...</td>\n",
       "      <td>Cookie Policy\\n\\nIntroduction\\nWe use cookies ...</td>\n",
       "      <td>NaN</td>\n",
       "      <td>False</td>\n",
       "      <td>Persistent</td>\n",
       "    </tr>\n",
       "    <tr>\n",
       "      <th>747</th>\n",
       "      <td>748</td>\n",
       "      <td>60060267</td>\n",
       "      <td>First-party</td>\n",
       "      <td>True</td>\n",
       "      <td>Performance Monitoring</td>\n",
       "      <td>Subscription Status; Language Preferences; Bat...</td>\n",
       "      <td>Cookie Policy\\n\\nIntroduction\\nWe use cookies ...</td>\n",
       "      <td>NaN</td>\n",
       "      <td>True</td>\n",
       "      <td>Persistent</td>\n",
       "    </tr>\n",
       "  </tbody>\n",
       "</table>\n",
       "<p>66 rows × 10 columns</p>\n",
       "</div>"
      ],
      "text/plain": [
       "     Cookie ID  Expires / Max-Age (in seconds)       Origin  \\\n",
       "21          22                        56396466  First-party   \n",
       "60          61                               0  First-party   \n",
       "66          67                              -1  First-party   \n",
       "73          74                         3915088  Third-party   \n",
       "77          78                         6276421  First-party   \n",
       "..         ...                             ...          ...   \n",
       "695        696                               0  Third-party   \n",
       "726        727                               0  First-party   \n",
       "727        728                        25184472  First-party   \n",
       "734        735                        61850003  First-party   \n",
       "747        748                        60060267  First-party   \n",
       "\n",
       "     SameParty (if cookie keeps data locally or sends it outside)  \\\n",
       "21                                               False              \n",
       "60                                               False              \n",
       "66                                                True              \n",
       "73                                                True              \n",
       "77                                                True              \n",
       "..                                                 ...              \n",
       "695                                               True              \n",
       "726                                               True              \n",
       "727                                               True              \n",
       "734                                               True              \n",
       "747                                               True              \n",
       "\n",
       "                    Purpose  \\\n",
       "21          Market Research   \n",
       "60         Customer Support   \n",
       "66   Operational Efficiency   \n",
       "73         Customer Support   \n",
       "77               Compliance   \n",
       "..                      ...   \n",
       "695     Service Improvement   \n",
       "726       Customer Feedback   \n",
       "727         User Experience   \n",
       "734              Functional   \n",
       "747  Performance Monitoring   \n",
       "\n",
       "                                       Data Collected   \\\n",
       "21   Email Address; ISP; Device Information; Login ...   \n",
       "60   Session Data; Subscription Status; Payment Inf...   \n",
       "66   Network Type; Purchase History; Screen Resolut...   \n",
       "73   Email Address; Flash Version; Visited Pages; E...   \n",
       "77   JavaScript Enabled; Session Data; Screen Resol...   \n",
       "..                                                 ...   \n",
       "695  Device Information; Session Data; Language Pre...   \n",
       "726  Battery Level; Search Queries; Purchase Histor...   \n",
       "727  Search Queries; JavaScript Enabled; Email Addr...   \n",
       "734  ISP; JavaScript Enabled; Language Preferences;...   \n",
       "747  Subscription Status; Language Preferences; Bat...   \n",
       "\n",
       "                                         Cookie Policy Cookie Options  \\\n",
       "21   Cookie Policy\\n\\nIntroduction\\nWe use cookies ...            NaN   \n",
       "60   Cookie Policy\\n\\nIntroduction\\nWe use cookies ...            NaN   \n",
       "66   Cookie Policy\\n\\nIntroduction\\nWe use cookies ...            NaN   \n",
       "73   Cookie Policy\\n\\nIntroduction\\nWe use cookies ...            NaN   \n",
       "77   Cookie Policy\\n\\nIntroduction\\nWe use cookies ...            NaN   \n",
       "..                                                 ...            ...   \n",
       "695                                 No policy informed            NaN   \n",
       "726  Cookie Policy\\n\\nIntroduction\\nWe use cookies ...            NaN   \n",
       "727  Cookie Policy\\n\\nIntroduction\\nWe use cookies ...            NaN   \n",
       "734  Cookie Policy\\n\\nIntroduction\\nWe use cookies ...            NaN   \n",
       "747  Cookie Policy\\n\\nIntroduction\\nWe use cookies ...            NaN   \n",
       "\n",
       "     Consent Required    Duration  \n",
       "21               True  Persistent  \n",
       "60               True     Session  \n",
       "66               True     Session  \n",
       "73               True     Session  \n",
       "77               True  Persistent  \n",
       "..                ...         ...  \n",
       "695              True  Persistent  \n",
       "726              True     Session  \n",
       "727              True     Session  \n",
       "734             False  Persistent  \n",
       "747              True  Persistent  \n",
       "\n",
       "[66 rows x 10 columns]"
      ]
     },
     "execution_count": 8,
     "metadata": {},
     "output_type": "execute_result"
    }
   ],
   "source": [
    "# Rows where 'Cookie Options' is empty:\n",
    "df[df['Cookie Options'].isna()]"
   ]
  },
  {
   "cell_type": "code",
   "execution_count": 9,
   "metadata": {},
   "outputs": [],
   "source": [
    "# cookies expiration period converted from seconds to years\n",
    "df['expires/max-age (in years)'] = (((df['Expires / Max-Age (in seconds)']/60)/60)/24)/365"
   ]
  },
  {
   "cell_type": "code",
   "execution_count": 10,
   "metadata": {},
   "outputs": [
    {
     "data": {
      "image/png": "[encoded data removed]",
      "text/plain": [
       "<Figure size 640x480 with 1 Axes>"
      ]
     },
     "metadata": {},
     "output_type": "display_data"
    }
   ],
   "source": [
    "# Relation between Duration vs the expiration time\n",
    "sns.scatterplot(data= df, x= 'expires/max-age (in years)', y = 'Duration', hue='Duration')\n",
    "plt.grid(True)\n",
    "plt.show()"
   ]
  },
  {
   "cell_type": "code",
   "execution_count": 11,
   "metadata": {},
   "outputs": [
    {
     "data": {
      "text/plain": [
       "expiration year > 2\n",
       "False    654\n",
       "True      96\n",
       "Name: count, dtype: int64"
      ]
     },
     "execution_count": 11,
     "metadata": {},
     "output_type": "execute_result"
    }
   ],
   "source": [
    "# cookies with expiration year >= 2 years\n",
    "df['expiration year > 2'] = (df['expires/max-age (in years)'] >= 2)\n",
    "(df['expiration year > 2']== True).value_counts()"
   ]
  },
  {
   "cell_type": "code",
   "execution_count": 12,
   "metadata": {},
   "outputs": [
    {
     "data": {
      "text/html": [
       "<div>\n",
       "<style scoped>\n",
       "    .dataframe tbody tr th:only-of-type {\n",
       "        vertical-align: middle;\n",
       "    }\n",
       "\n",
       "    .dataframe tbody tr th {\n",
       "        vertical-align: top;\n",
       "    }\n",
       "\n",
       "    .dataframe thead th {\n",
       "        text-align: right;\n",
       "    }\n",
       "</style>\n",
       "<table border=\"1\" class=\"dataframe\">\n",
       "  <thead>\n",
       "    <tr style=\"text-align: right;\">\n",
       "      <th></th>\n",
       "      <th>Cookie ID</th>\n",
       "      <th>Expires / Max-Age (in seconds)</th>\n",
       "      <th>Origin</th>\n",
       "      <th>SameParty (if cookie keeps data locally or sends it outside)</th>\n",
       "      <th>Purpose</th>\n",
       "      <th>Data Collected</th>\n",
       "      <th>Cookie Policy</th>\n",
       "      <th>Cookie Options</th>\n",
       "      <th>Consent Required</th>\n",
       "      <th>Duration</th>\n",
       "      <th>expires/max-age (in years)</th>\n",
       "      <th>expiration year &gt; 2</th>\n",
       "    </tr>\n",
       "  </thead>\n",
       "  <tbody>\n",
       "    <tr>\n",
       "      <th>0</th>\n",
       "      <td>1</td>\n",
       "      <td>60478299</td>\n",
       "      <td>First-party</td>\n",
       "      <td>True</td>\n",
       "      <td>Functional</td>\n",
       "      <td>Network Type; IP Address; Referring URL; Adver...</td>\n",
       "      <td>Cookie Policy\\n\\nIntroduction\\nWe use cookies ...</td>\n",
       "      <td>Decline All, Accept All, Customize cookies</td>\n",
       "      <td>True</td>\n",
       "      <td>Persistent</td>\n",
       "      <td>1.917754e+00</td>\n",
       "      <td>False</td>\n",
       "    </tr>\n",
       "    <tr>\n",
       "      <th>1</th>\n",
       "      <td>2</td>\n",
       "      <td>0</td>\n",
       "      <td>First-party</td>\n",
       "      <td>True</td>\n",
       "      <td>Analytics</td>\n",
       "      <td>Advertising Preferences; Device Information; V...</td>\n",
       "      <td>Cookie Policy\\n\\nIntroduction\\nWe use cookies ...</td>\n",
       "      <td>Accept All, Customize cookies</td>\n",
       "      <td>True</td>\n",
       "      <td>Persistent</td>\n",
       "      <td>0.000000e+00</td>\n",
       "      <td>False</td>\n",
       "    </tr>\n",
       "    <tr>\n",
       "      <th>2</th>\n",
       "      <td>3</td>\n",
       "      <td>-1</td>\n",
       "      <td>First-party</td>\n",
       "      <td>True</td>\n",
       "      <td>Functional</td>\n",
       "      <td>Flash Version; Referring URL; Operating System...</td>\n",
       "      <td>Cookie Policy\\n\\nIntroduction\\nWe use cookies ...</td>\n",
       "      <td>Decline All, Accept All, Customize cookies</td>\n",
       "      <td>True</td>\n",
       "      <td>Session</td>\n",
       "      <td>-3.170979e-08</td>\n",
       "      <td>False</td>\n",
       "    </tr>\n",
       "  </tbody>\n",
       "</table>\n",
       "</div>"
      ],
      "text/plain": [
       "   Cookie ID  Expires / Max-Age (in seconds)       Origin  \\\n",
       "0          1                        60478299  First-party   \n",
       "1          2                               0  First-party   \n",
       "2          3                              -1  First-party   \n",
       "\n",
       "   SameParty (if cookie keeps data locally or sends it outside)     Purpose  \\\n",
       "0                                               True             Functional   \n",
       "1                                               True              Analytics   \n",
       "2                                               True             Functional   \n",
       "\n",
       "                                     Data Collected   \\\n",
       "0  Network Type; IP Address; Referring URL; Adver...   \n",
       "1  Advertising Preferences; Device Information; V...   \n",
       "2  Flash Version; Referring URL; Operating System...   \n",
       "\n",
       "                                       Cookie Policy  \\\n",
       "0  Cookie Policy\\n\\nIntroduction\\nWe use cookies ...   \n",
       "1  Cookie Policy\\n\\nIntroduction\\nWe use cookies ...   \n",
       "2  Cookie Policy\\n\\nIntroduction\\nWe use cookies ...   \n",
       "\n",
       "                               Cookie Options  Consent Required    Duration  \\\n",
       "0  Decline All, Accept All, Customize cookies              True  Persistent   \n",
       "1               Accept All, Customize cookies              True  Persistent   \n",
       "2  Decline All, Accept All, Customize cookies              True     Session   \n",
       "\n",
       "   expires/max-age (in years)  expiration year > 2  \n",
       "0                1.917754e+00                False  \n",
       "1                0.000000e+00                False  \n",
       "2               -3.170979e-08                False  "
      ]
     },
     "execution_count": 12,
     "metadata": {},
     "output_type": "execute_result"
    }
   ],
   "source": [
    "df.head(3)"
   ]
  },
  {
   "cell_type": "code",
   "execution_count": 13,
   "metadata": {},
   "outputs": [
    {
     "data": {
      "text/plain": [
       "Cookie ID                                                       45\n",
       "Expires / Max-Age (in seconds)                                  45\n",
       "Origin                                                          45\n",
       "SameParty (if cookie keeps data locally or sends it outside)    45\n",
       "Purpose                                                         45\n",
       "Data Collected                                                  45\n",
       "Cookie Policy                                                   45\n",
       "Cookie Options                                                  41\n",
       "Consent Required                                                45\n",
       "Duration                                                        45\n",
       "expires/max-age (in years)                                      45\n",
       "expiration year > 2                                             45\n",
       "dtype: int64"
      ]
     },
     "execution_count": 13,
     "metadata": {},
     "output_type": "execute_result"
    }
   ],
   "source": [
    "# Persistent cookies with expiration > 2 years\n",
    "(df[(df['Duration'] == 'Persistent')&(df['expiration year > 2'] == True)]).count()\n",
    "\n",
    "# 45"
   ]
  },
  {
   "cell_type": "code",
   "execution_count": 14,
   "metadata": {},
   "outputs": [
    {
     "data": {
      "text/plain": [
       "Cookie ID                                                       56\n",
       "Expires / Max-Age (in seconds)                                  56\n",
       "Origin                                                          56\n",
       "SameParty (if cookie keeps data locally or sends it outside)    56\n",
       "Purpose                                                         56\n",
       "Data Collected                                                  56\n",
       "Cookie Policy                                                   56\n",
       "Cookie Options                                                  49\n",
       "Consent Required                                                56\n",
       "Duration                                                        56\n",
       "expires/max-age (in years)                                      56\n",
       "expiration year > 2                                             56\n",
       "dtype: int64"
      ]
     },
     "execution_count": 14,
     "metadata": {},
     "output_type": "execute_result"
    }
   ],
   "source": [
    "# Persistent cookies with no consents required\n",
    "df[(df['Duration'] == 'Persistent')&(df['Consent Required']== False)].count()\n",
    "\n",
    "# 56"
   ]
  },
  {
   "cell_type": "code",
   "execution_count": 15,
   "metadata": {},
   "outputs": [
    {
     "data": {
      "text/plain": [
       "Cookie ID                                                       27\n",
       "Expires / Max-Age (in seconds)                                  27\n",
       "Origin                                                          27\n",
       "SameParty (if cookie keeps data locally or sends it outside)    27\n",
       "Purpose                                                         27\n",
       "Data Collected                                                  27\n",
       "Cookie Policy                                                   27\n",
       "Cookie Options                                                   0\n",
       "Consent Required                                                27\n",
       "Duration                                                        27\n",
       "expires/max-age (in years)                                      27\n",
       "expiration year > 2                                             27\n",
       "dtype: int64"
      ]
     },
     "execution_count": 15,
     "metadata": {},
     "output_type": "execute_result"
    }
   ],
   "source": [
    "# Persistent cookies with no 'Cookie Options'\n",
    "df[(df['Duration'] == 'Persistent')&(df['Cookie Options'].isnull())].count()\n",
    "\n",
    "# 27"
   ]
  },
  {
   "cell_type": "code",
   "execution_count": 16,
   "metadata": {},
   "outputs": [
    {
     "data": {
      "text/plain": [
       "Origin\n",
       "First-party    602\n",
       "Third-party    148\n",
       "Name: count, dtype: int64"
      ]
     },
     "execution_count": 16,
     "metadata": {},
     "output_type": "execute_result"
    }
   ],
   "source": [
    "df['Origin'].value_counts()"
   ]
  },
  {
   "cell_type": "code",
   "execution_count": 17,
   "metadata": {},
   "outputs": [
    {
     "data": {
      "text/plain": [
       "0"
      ]
     },
     "execution_count": 17,
     "metadata": {},
     "output_type": "execute_result"
    }
   ],
   "source": [
    "# 3rd-party cookies without consent\n",
    "\n",
    "((df['Origin'] == 'Third-Party')&(df['Consent Required']== False)).sum()"
   ]
  },
  {
   "cell_type": "code",
   "execution_count": 18,
   "metadata": {},
   "outputs": [
    {
     "data": {
      "text/plain": [
       "Cookie ID                                                       127\n",
       "Expires / Max-Age (in seconds)                                  127\n",
       "Origin                                                          127\n",
       "SameParty (if cookie keeps data locally or sends it outside)    127\n",
       "Purpose                                                         127\n",
       "Data Collected                                                  127\n",
       "Cookie Policy                                                   127\n",
       "Cookie Options                                                  120\n",
       "Consent Required                                                127\n",
       "Duration                                                        127\n",
       "expires/max-age (in years)                                      127\n",
       "expiration year > 2                                             127\n",
       "dtype: int64"
      ]
     },
     "execution_count": 18,
     "metadata": {},
     "output_type": "execute_result"
    }
   ],
   "source": [
    "# Cookies without detailed cookie policy\n",
    "df[df['Cookie Policy']=='No policy informed'].count()"
   ]
  },
  {
   "cell_type": "markdown",
   "metadata": {},
   "source": [
    "___________________________________________________________________________________________________"
   ]
  },
  {
   "cell_type": "markdown",
   "metadata": {},
   "source": [
    "Analyzing the data collected:"
   ]
  },
  {
   "cell_type": "code",
   "execution_count": 19,
   "metadata": {},
   "outputs": [],
   "source": [
    "# Function defined to get data from 'Data Collected '\n",
    "from nltk import ngrams\n",
    "def get_data_collected(data):\n",
    "    n=1\n",
    "    words = []\n",
    "    for i in range(len(data)):\n",
    "        unigrams = ngrams(data['Data Collected '][i].split(';'), n)\n",
    "\n",
    "        for grams in unigrams:\n",
    "            words.append(grams)\n",
    "\n",
    "    return words \n"
   ]
  },
  {
   "cell_type": "code",
   "execution_count": 20,
   "metadata": {},
   "outputs": [
    {
     "data": {
      "text/plain": [
       "array(['Functional', 'Analytics', 'Service Improvement',\n",
       "       'Content Customization', 'Advertising', 'Customer Support',\n",
       "       'Operational Efficiency', 'Tracking', 'Social Media',\n",
       "       'Legal Obligations', 'Personalization', 'E-commerce', 'Compliance',\n",
       "       'Performance Monitoring', 'Market Research', 'User Experience',\n",
       "       'Fraud Prevention', 'Security', 'Customer Feedback'], dtype=object)"
      ]
     },
     "execution_count": 20,
     "metadata": {},
     "output_type": "execute_result"
    }
   ],
   "source": [
    "df['Purpose'].unique()"
   ]
  },
  {
   "cell_type": "code",
   "execution_count": 21,
   "metadata": {},
   "outputs": [
    {
     "data": {
      "text/plain": [
       "array(['Network Type', 'IP Address', 'Referring URL',\n",
       "       'Advertising Preferences', 'Operating System', 'Flash Version',\n",
       "       'Purchase History', 'Email Address', 'Visited Pages', 'App Usage',\n",
       "       'Language Preferences', 'Local Time', 'Device Information',\n",
       "       'Screen Resolution', 'Download History', 'Browser',\n",
       "       'Clickstream Data', 'ISP', 'Search Queries', 'Payment Information',\n",
       "       'Subscription Status', 'Battery Level', 'Login Times',\n",
       "       'Time Spent on Page', 'Error Reports', 'Session Data',\n",
       "       'JavaScript Enabled', 'Phone Number', 'Geolocation'], dtype=object)"
      ]
     },
     "execution_count": 21,
     "metadata": {},
     "output_type": "execute_result"
    }
   ],
   "source": [
    "data = df[df['Purpose']== 'Functional']\n",
    "data.reset_index(inplace=True)\n",
    "functional_data = get_data_collected(data)\n",
    "flattened = [item.strip() for sublist in functional_data for item in sublist]\n",
    "functional_unique = pd.Series(flattened).unique()\n",
    "functional_unique"
   ]
  },
  {
   "cell_type": "code",
   "execution_count": 22,
   "metadata": {},
   "outputs": [
    {
     "data": {
      "text/plain": [
       "array(['Advertising Preferences', 'Device Information', 'Visited Pages',\n",
       "       'Payment Information', 'Battery Level', 'Email Address',\n",
       "       'Language Preferences', 'Time Spent on Page', 'Network Type',\n",
       "       'Clickstream Data', 'ISP', 'Search Queries', 'Download History',\n",
       "       'JavaScript Enabled', 'Error Reports', 'Session Data',\n",
       "       'Subscription Status', 'Login Times', 'App Usage',\n",
       "       'Screen Resolution', 'Browser', 'Purchase History',\n",
       "       'Referring URL', 'Geolocation', 'Phone Number', 'Flash Version',\n",
       "       'Operating System', 'IP Address', 'Local Time'], dtype=object)"
      ]
     },
     "execution_count": 22,
     "metadata": {},
     "output_type": "execute_result"
    }
   ],
   "source": [
    "data = df[df['Purpose']== 'Analytics']\n",
    "data.reset_index(inplace=True)\n",
    "analytics_data = get_data_collected(data)\n",
    "flattened = [item.strip() for sublist in analytics_data for item in sublist]\n",
    "analytics_unique = pd.Series(flattened).unique()\n",
    "analytics_unique"
   ]
  },
  {
   "cell_type": "code",
   "execution_count": 23,
   "metadata": {},
   "outputs": [
    {
     "data": {
      "text/plain": [
       "array(['Browser', 'Language Preferences', 'Download History', 'ISP',\n",
       "       'Visited Pages', 'Local Time', 'Time Spent on Page',\n",
       "       'Phone Number', 'Payment Information', 'Operating System',\n",
       "       'Screen Resolution', 'IP Address', 'Battery Level', 'Geolocation',\n",
       "       'Login Times', 'Advertising Preferences', 'Purchase History',\n",
       "       'JavaScript Enabled', 'Subscription Status', 'Error Reports',\n",
       "       'App Usage', 'Search Queries', 'Clickstream Data', 'Flash Version',\n",
       "       'Device Information', 'Network Type', 'Email Address',\n",
       "       'Referring URL', 'Session Data'], dtype=object)"
      ]
     },
     "execution_count": 23,
     "metadata": {},
     "output_type": "execute_result"
    }
   ],
   "source": [
    "data = df[df['Purpose']== 'Service Improvement']\n",
    "data.reset_index(inplace=True)\n",
    "service_improv_data = get_data_collected(data)\n",
    "flattened = [item.strip() for sublist in service_improv_data for item in sublist]\n",
    "service_improv_unique = pd.Series(flattened).unique()\n",
    "service_improv_unique"
   ]
  },
  {
   "cell_type": "code",
   "execution_count": 24,
   "metadata": {},
   "outputs": [
    {
     "data": {
      "text/plain": [
       "array(['Network Type', 'Visited Pages', 'Error Reports', 'Flash Version',\n",
       "       'Login Times', 'Local Time', 'Time Spent on Page',\n",
       "       'Operating System', 'Phone Number', 'Subscription Status',\n",
       "       'Referring URL', 'Language Preferences', 'Geolocation',\n",
       "       'Purchase History', 'Email Address', 'Browser', 'IP Address',\n",
       "       'Payment Information', 'Screen Resolution', 'JavaScript Enabled',\n",
       "       'Session Data', 'Advertising Preferences', 'Device Information',\n",
       "       'Download History', 'Clickstream Data', 'Search Queries', 'ISP',\n",
       "       'App Usage', 'Battery Level'], dtype=object)"
      ]
     },
     "execution_count": 24,
     "metadata": {},
     "output_type": "execute_result"
    }
   ],
   "source": [
    "data = df[df['Purpose']== 'Content Customization']\n",
    "data.reset_index(inplace=True)\n",
    "content_cust_data = get_data_collected(data)\n",
    "flattened = [item.strip() for sublist in content_cust_data for item in sublist]\n",
    "content_cust_unique = pd.Series(flattened).unique()\n",
    "content_cust_unique"
   ]
  },
  {
   "cell_type": "code",
   "execution_count": 25,
   "metadata": {},
   "outputs": [
    {
     "data": {
      "text/plain": [
       "array(['App Usage', 'Subscription Status', 'Payment Information',\n",
       "       'Session Data', 'Referring URL', 'Device Information',\n",
       "       'Login Times', 'Advertising Preferences', 'Purchase History',\n",
       "       'Browser', 'Geolocation', 'Language Preferences', 'Visited Pages',\n",
       "       'Battery Level', 'Screen Resolution', 'JavaScript Enabled',\n",
       "       'Operating System', 'Email Address', 'Time Spent on Page',\n",
       "       'Local Time', 'Error Reports', 'Network Type', 'ISP', 'IP Address',\n",
       "       'Search Queries', 'Flash Version', 'Clickstream Data',\n",
       "       'Phone Number', 'Download History'], dtype=object)"
      ]
     },
     "execution_count": 25,
     "metadata": {},
     "output_type": "execute_result"
    }
   ],
   "source": [
    "data = df[df['Purpose']== 'Advertising']\n",
    "data.reset_index(inplace=True)\n",
    "advertising_data = get_data_collected(data)\n",
    "flattened = [item.strip() for sublist in advertising_data for item in sublist]\n",
    "advertising_unique = pd.Series(flattened).unique()\n",
    "advertising_unique"
   ]
  },
  {
   "cell_type": "code",
   "execution_count": 26,
   "metadata": {},
   "outputs": [
    {
     "data": {
      "text/plain": [
       "array(['Clickstream Data', 'Purchase History', 'Search Queries',\n",
       "       'IP Address', 'Screen Resolution', 'Geolocation', 'Flash Version',\n",
       "       'Error Reports', 'Operating System', 'Session Data',\n",
       "       'Battery Level', 'Referring URL', 'Network Type',\n",
       "       'Device Information', 'JavaScript Enabled', 'Language Preferences',\n",
       "       'Email Address', 'Subscription Status', 'Payment Information',\n",
       "       'ISP', 'Visited Pages', 'Download History', 'Local Time',\n",
       "       'Advertising Preferences', 'Browser', 'Phone Number',\n",
       "       'Login Times', 'App Usage', 'Time Spent on Page'], dtype=object)"
      ]
     },
     "execution_count": 26,
     "metadata": {},
     "output_type": "execute_result"
    }
   ],
   "source": [
    "data = df[df['Purpose']== 'Customer Support']\n",
    "data.reset_index(inplace=True)\n",
    "cust_support_data = get_data_collected(data)\n",
    "flattened = [item.strip() for sublist in cust_support_data for item in sublist]\n",
    "cust_support_unique = pd.Series(flattened).unique()\n",
    "cust_support_unique"
   ]
  },
  {
   "cell_type": "code",
   "execution_count": 27,
   "metadata": {},
   "outputs": [
    {
     "data": {
      "text/plain": [
       "array(['Network Type', 'Session Data', 'App Usage', 'Email Address',\n",
       "       'Battery Level', 'Error Reports', 'Visited Pages', 'Login Times',\n",
       "       'Download History', 'Payment Information', 'Device Information',\n",
       "       'Referring URL', 'Browser', 'JavaScript Enabled',\n",
       "       'Operating System', 'Flash Version', 'ISP', 'Purchase History',\n",
       "       'Screen Resolution', 'Clickstream Data', 'IP Address',\n",
       "       'Geolocation', 'Language Preferences', 'Time Spent on Page',\n",
       "       'Advertising Preferences', 'Search Queries', 'Subscription Status',\n",
       "       'Local Time', 'Phone Number'], dtype=object)"
      ]
     },
     "execution_count": 27,
     "metadata": {},
     "output_type": "execute_result"
    }
   ],
   "source": [
    "data = df[df['Purpose']== 'Operational Efficiency']\n",
    "data.reset_index(inplace=True)\n",
    "oe_data = get_data_collected(data)\n",
    "flattened = [item.strip() for sublist in oe_data for item in sublist]\n",
    "oe_unique = pd.Series(flattened).unique()\n",
    "oe_unique"
   ]
  },
  {
   "cell_type": "code",
   "execution_count": 28,
   "metadata": {},
   "outputs": [
    {
     "data": {
      "text/plain": [
       "array(['App Usage', 'Local Time', 'IP Address', 'Network Type',\n",
       "       'Time Spent on Page', 'Device Information', 'Login Times',\n",
       "       'JavaScript Enabled', 'Phone Number', 'Clickstream Data',\n",
       "       'Flash Version', 'Referring URL', 'Payment Information',\n",
       "       'Language Preferences', 'Subscription Status', 'Operating System',\n",
       "       'Battery Level', 'Browser', 'Advertising Preferences',\n",
       "       'Download History', 'Session Data', 'Geolocation', 'Error Reports',\n",
       "       'ISP', 'Search Queries', 'Email Address', 'Purchase History',\n",
       "       'Visited Pages', 'Screen Resolution'], dtype=object)"
      ]
     },
     "execution_count": 28,
     "metadata": {},
     "output_type": "execute_result"
    }
   ],
   "source": [
    "data = df[df['Purpose']== 'Tracking']\n",
    "data.reset_index(inplace=True)\n",
    "track_data = get_data_collected(data)\n",
    "flattened = [item.strip() for sublist in track_data for item in sublist]\n",
    "tracking_unique = pd.Series(flattened).unique()\n",
    "tracking_unique"
   ]
  },
  {
   "cell_type": "code",
   "execution_count": 29,
   "metadata": {},
   "outputs": [
    {
     "data": {
      "text/plain": [
       "array(['Login Times', 'Geolocation', 'Payment Information',\n",
       "       'Device Information', 'Advertising Preferences', 'Session Data',\n",
       "       'Language Preferences', 'Download History', 'Visited Pages',\n",
       "       'Screen Resolution', 'JavaScript Enabled', 'Purchase History',\n",
       "       'IP Address', 'Email Address', 'Phone Number', 'Error Reports',\n",
       "       'Referring URL', 'Flash Version', 'Operating System', 'Local Time',\n",
       "       'Search Queries', 'Battery Level', 'ISP', 'Browser', 'App Usage',\n",
       "       'Network Type', 'Clickstream Data', 'Subscription Status',\n",
       "       'Time Spent on Page'], dtype=object)"
      ]
     },
     "execution_count": 29,
     "metadata": {},
     "output_type": "execute_result"
    }
   ],
   "source": [
    "data = df[df['Purpose']== 'Social Media']\n",
    "data.reset_index(inplace=True)\n",
    "sm_data = get_data_collected(data)\n",
    "flattened = [item.strip() for sublist in sm_data for item in sublist]\n",
    "sm_unique = pd.Series(flattened).unique()\n",
    "sm_unique"
   ]
  },
  {
   "cell_type": "code",
   "execution_count": 30,
   "metadata": {},
   "outputs": [
    {
     "data": {
      "text/plain": [
       "array(['Clickstream Data', 'Operating System', 'Phone Number',\n",
       "       'JavaScript Enabled', 'Network Type', 'App Usage', 'Login Times',\n",
       "       'Error Reports', 'Flash Version', 'Screen Resolution',\n",
       "       'Download History', 'Session Data', 'IP Address', 'Geolocation',\n",
       "       'Device Information', 'Subscription Status', 'ISP',\n",
       "       'Language Preferences', 'Referring URL', 'Purchase History',\n",
       "       'Payment Information', 'Visited Pages', 'Email Address',\n",
       "       'Local Time', 'Browser', 'Search Queries', 'Battery Level',\n",
       "       'Advertising Preferences', 'Time Spent on Page'], dtype=object)"
      ]
     },
     "execution_count": 30,
     "metadata": {},
     "output_type": "execute_result"
    }
   ],
   "source": [
    "data = df[df['Purpose']== 'Legal Obligations']\n",
    "data.reset_index(inplace=True)\n",
    "lo_data = get_data_collected(data)\n",
    "flattened = [item.strip() for sublist in lo_data for item in sublist]\n",
    "lo_unique = pd.Series(flattened).unique()\n",
    "lo_unique"
   ]
  },
  {
   "cell_type": "code",
   "execution_count": 31,
   "metadata": {},
   "outputs": [
    {
     "data": {
      "text/plain": [
       "array(['Time Spent on Page', 'Login Times', 'Subscription Status',\n",
       "       'Device Information', 'Phone Number', 'Clickstream Data',\n",
       "       'Visited Pages', 'Advertising Preferences', 'Purchase History',\n",
       "       'Language Preferences', 'IP Address', 'Referring URL',\n",
       "       'JavaScript Enabled', 'App Usage', 'Battery Level', 'Browser',\n",
       "       'Search Queries', 'Download History', 'Payment Information',\n",
       "       'Flash Version', 'Screen Resolution', 'ISP', 'Email Address',\n",
       "       'Operating System', 'Network Type', 'Local Time', 'Error Reports',\n",
       "       'Session Data', 'Geolocation'], dtype=object)"
      ]
     },
     "execution_count": 31,
     "metadata": {},
     "output_type": "execute_result"
    }
   ],
   "source": [
    "data = df[df['Purpose']== 'Personalization']\n",
    "data.reset_index(inplace=True)\n",
    "p_data = get_data_collected(data)\n",
    "flattened = [item.strip() for sublist in p_data for item in sublist]\n",
    "p_unique = pd.Series(flattened).unique()\n",
    "p_unique"
   ]
  },
  {
   "cell_type": "code",
   "execution_count": 32,
   "metadata": {},
   "outputs": [
    {
     "data": {
      "text/plain": [
       "array(['Download History', 'Operating System', 'Local Time',\n",
       "       'Language Preferences', 'JavaScript Enabled',\n",
       "       'Subscription Status', 'Device Information', 'Session Data',\n",
       "       'Login Times', 'Visited Pages', 'Network Type',\n",
       "       'Advertising Preferences', 'ISP', 'Screen Resolution',\n",
       "       'Phone Number', 'Flash Version', 'Clickstream Data', 'App Usage',\n",
       "       'Geolocation', 'Email Address', 'Battery Level', 'Referring URL',\n",
       "       'Purchase History', 'Payment Information', 'IP Address',\n",
       "       'Error Reports', 'Time Spent on Page', 'Search Queries', 'Browser'],\n",
       "      dtype=object)"
      ]
     },
     "execution_count": 32,
     "metadata": {},
     "output_type": "execute_result"
    }
   ],
   "source": [
    "data = df[df['Purpose']== 'E-commerce']\n",
    "data.reset_index(inplace=True)\n",
    "ec_data = get_data_collected(data)\n",
    "flattened = [item.strip() for sublist in ec_data for item in sublist]\n",
    "ec_unique = pd.Series(flattened).unique()\n",
    "ec_unique"
   ]
  },
  {
   "cell_type": "code",
   "execution_count": 33,
   "metadata": {},
   "outputs": [
    {
     "data": {
      "text/plain": [
       "array(['Flash Version', 'Device Information', 'Search Queries',\n",
       "       'Error Reports', 'Operating System', 'Purchase History',\n",
       "       'Login Times', 'Email Address', 'Phone Number', 'App Usage',\n",
       "       'Local Time', 'Battery Level', 'Referring URL',\n",
       "       'JavaScript Enabled', 'Session Data', 'Screen Resolution',\n",
       "       'Visited Pages', 'Network Type', 'Download History', 'IP Address',\n",
       "       'Payment Information', 'Browser', 'Advertising Preferences',\n",
       "       'Language Preferences', 'Subscription Status',\n",
       "       'Time Spent on Page', 'Clickstream Data', 'ISP', 'Geolocation'],\n",
       "      dtype=object)"
      ]
     },
     "execution_count": 33,
     "metadata": {},
     "output_type": "execute_result"
    }
   ],
   "source": [
    "data = df[df['Purpose']== 'Compliance']\n",
    "data.reset_index(inplace=True)\n",
    "compliance_data = get_data_collected(data)\n",
    "flattened = [item.strip() for sublist in compliance_data for item in sublist]\n",
    "compliance_unique = pd.Series(flattened).unique()\n",
    "compliance_unique"
   ]
  },
  {
   "cell_type": "code",
   "execution_count": 34,
   "metadata": {},
   "outputs": [
    {
     "data": {
      "text/plain": [
       "array(['Error Reports', 'App Usage', 'Email Address', 'Browser',\n",
       "       'Download History', 'Language Preferences', 'IP Address',\n",
       "       'Battery Level', 'Network Type', 'Payment Information',\n",
       "       'JavaScript Enabled', 'Clickstream Data', 'Time Spent on Page',\n",
       "       'Purchase History', 'Local Time', 'Device Information',\n",
       "       'Visited Pages', 'Geolocation', 'Operating System', 'Login Times',\n",
       "       'Flash Version', 'Search Queries', 'Screen Resolution',\n",
       "       'Phone Number', 'Session Data', 'Subscription Status',\n",
       "       'Referring URL', 'Advertising Preferences', 'ISP'], dtype=object)"
      ]
     },
     "execution_count": 34,
     "metadata": {},
     "output_type": "execute_result"
    }
   ],
   "source": [
    "data = df[df['Purpose']== 'Performance Monitoring']\n",
    "data.reset_index(inplace=True)\n",
    "pm_data = get_data_collected(data)\n",
    "flattened = [item.strip() for sublist in pm_data for item in sublist]\n",
    "pm_unique = pd.Series(flattened).unique()\n",
    "pm_unique"
   ]
  },
  {
   "cell_type": "code",
   "execution_count": null,
   "metadata": {},
   "outputs": [
    {
     "data": {
      "text/plain": [
       "array(['Email Address', 'ISP', 'Device Information', 'Login Times',\n",
       "       'Local Time', 'Download History', 'Battery Level',\n",
       "       'Screen Resolution', 'App Usage', 'IP Address',\n",
       "       'Time Spent on Page', 'JavaScript Enabled', 'Search Queries',\n",
       "       'Referring URL', 'Payment Information', 'Language Preferences',\n",
       "       'Operating System', 'Browser', 'Visited Pages', 'Phone Number',\n",
       "       'Clickstream Data', 'Error Reports', 'Network Type',\n",
       "       'Advertising Preferences', 'Session Data', 'Purchase History',\n",
       "       'Subscription Status', 'Geolocation', 'Flash Version'],\n",
       "      dtype=object)"
      ]
     },
     "execution_count": 35,
     "metadata": {},
     "output_type": "execute_result"
    }
   ],
   "source": [
    "data = df[df['Purpose']== 'Market Research']\n",
    "data.reset_index(inplace=True)\n",
    "market_research_data = get_data_collected(data)\n",
    "flattened = [item.strip() for sublist in market_research_data for item in sublist]\n",
    "market_research_unique = pd.Series(flattened).unique()\n",
    "market_research_unique"
   ]
  },
  {
   "cell_type": "code",
   "execution_count": 36,
   "metadata": {},
   "outputs": [
    {
     "data": {
      "text/plain": [
       "array(['Payment Information', 'Battery Level', 'Language Preferences',\n",
       "       'Local Time', 'Search Queries', 'Subscription Status',\n",
       "       'Device Information', 'Download History', 'Purchase History',\n",
       "       'Email Address', 'Visited Pages', 'JavaScript Enabled',\n",
       "       'Clickstream Data', 'Phone Number', 'Browser', 'Network Type',\n",
       "       'Geolocation', 'IP Address', 'App Usage', 'Session Data',\n",
       "       'Error Reports', 'ISP', 'Referring URL', 'Login Times',\n",
       "       'Screen Resolution', 'Advertising Preferences', 'Flash Version',\n",
       "       'Operating System', 'Time Spent on Page'], dtype=object)"
      ]
     },
     "execution_count": 36,
     "metadata": {},
     "output_type": "execute_result"
    }
   ],
   "source": [
    "data = df[df['Purpose']== 'User Experience']\n",
    "data.reset_index(inplace=True)\n",
    "user_xp_data = get_data_collected(data)\n",
    "flattened = [item.strip() for sublist in user_xp_data for item in sublist]\n",
    "user_xp_unique = pd.Series(flattened).unique()\n",
    "user_xp_unique"
   ]
  },
  {
   "cell_type": "code",
   "execution_count": 37,
   "metadata": {},
   "outputs": [
    {
     "data": {
      "text/plain": [
       "array(['Phone Number', 'Battery Level', 'Referring URL', 'Flash Version',\n",
       "       'Download History', 'Operating System', 'Email Address',\n",
       "       'JavaScript Enabled', 'Visited Pages', 'Screen Resolution',\n",
       "       'Language Preferences', 'Time Spent on Page', 'Network Type',\n",
       "       'Search Queries', 'Payment Information', 'Session Data',\n",
       "       'Subscription Status', 'Login Times', 'Browser', 'ISP',\n",
       "       'IP Address', 'Error Reports', 'Geolocation', 'Clickstream Data',\n",
       "       'Purchase History', 'App Usage', 'Local Time',\n",
       "       'Advertising Preferences', 'Device Information'], dtype=object)"
      ]
     },
     "execution_count": 37,
     "metadata": {},
     "output_type": "execute_result"
    }
   ],
   "source": [
    "data = df[df['Purpose']== 'Fraud Prevention']\n",
    "data.reset_index(inplace=True)\n",
    "fraud_prev_data = get_data_collected(data)\n",
    "flattened = [item.strip() for sublist in fraud_prev_data for item in sublist]\n",
    "fraud_prev_unique = pd.Series(flattened).unique()\n",
    "fraud_prev_unique"
   ]
  },
  {
   "cell_type": "code",
   "execution_count": 38,
   "metadata": {},
   "outputs": [
    {
     "data": {
      "text/plain": [
       "array(['Search Queries', 'Flash Version', 'Download History',\n",
       "       'Geolocation', 'JavaScript Enabled', 'Payment Information',\n",
       "       'Advertising Preferences', 'Operating System', 'Phone Number',\n",
       "       'Clickstream Data', 'Login Times', 'Subscription Status',\n",
       "       'Session Data', 'Language Preferences', 'Time Spent on Page',\n",
       "       'Error Reports', 'Device Information', 'Network Type', 'ISP',\n",
       "       'Visited Pages', 'App Usage', 'Battery Level', 'Screen Resolution',\n",
       "       'Browser', 'Referring URL', 'Purchase History', 'Email Address',\n",
       "       'IP Address', 'Local Time'], dtype=object)"
      ]
     },
     "execution_count": 38,
     "metadata": {},
     "output_type": "execute_result"
    }
   ],
   "source": [
    "data = df[df['Purpose']== 'Security']\n",
    "data.reset_index(inplace=True)\n",
    "security_data = get_data_collected(data)\n",
    "flattened = [item.strip() for sublist in security_data for item in sublist]\n",
    "security_unique = pd.Series(flattened).unique()\n",
    "security_unique"
   ]
  },
  {
   "cell_type": "code",
   "execution_count": 39,
   "metadata": {},
   "outputs": [
    {
     "data": {
      "text/plain": [
       "array(['Email Address', 'Payment Information', 'Clickstream Data',\n",
       "       'Browser', 'App Usage', 'Screen Resolution', 'IP Address',\n",
       "       'Visited Pages', 'JavaScript Enabled', 'Operating System',\n",
       "       'Subscription Status', 'Error Reports', 'Search Queries',\n",
       "       'Time Spent on Page', 'Session Data', 'Purchase History',\n",
       "       'Download History', 'ISP', 'Battery Level', 'Login Times',\n",
       "       'Device Information', 'Advertising Preferences', 'Local Time',\n",
       "       'Phone Number', 'Geolocation', 'Language Preferences',\n",
       "       'Referring URL', 'Flash Version', 'Network Type'], dtype=object)"
      ]
     },
     "execution_count": 39,
     "metadata": {},
     "output_type": "execute_result"
    }
   ],
   "source": [
    "data = df[df['Purpose']== 'Customer Feedback']\n",
    "data.reset_index(inplace=True)\n",
    "cust_fb_data = get_data_collected(data)\n",
    "flattened = [item.strip() for sublist in cust_fb_data for item in sublist]\n",
    "cust_fb_unique = pd.Series(flattened).unique()\n",
    "cust_fb_unique"
   ]
  },
  {
   "cell_type": "markdown",
   "metadata": {},
   "source": [
    "________________________________________________________________________________________"
   ]
  },
  {
   "cell_type": "markdown",
   "metadata": {},
   "source": [
    "Cookie Policy Compliancy Analysis:"
   ]
  },
  {
   "cell_type": "code",
   "execution_count": 40,
   "metadata": {},
   "outputs": [
    {
     "data": {
      "text/plain": [
       "array(['Functional', 'Analytics', 'Service Improvement',\n",
       "       'Content Customization', 'Advertising', 'Customer Support',\n",
       "       'Operational Efficiency', 'Tracking', 'Social Media',\n",
       "       'Legal Obligations', 'Personalization', 'E-commerce', 'Compliance',\n",
       "       'Performance Monitoring', 'Market Research', 'User Experience',\n",
       "       'Fraud Prevention', 'Security', 'Customer Feedback'], dtype=object)"
      ]
     },
     "execution_count": 40,
     "metadata": {},
     "output_type": "execute_result"
    }
   ],
   "source": [
    "df['Purpose'].unique()"
   ]
  },
  {
   "cell_type": "code",
   "execution_count": 41,
   "metadata": {},
   "outputs": [],
   "source": [
    "# Classifying cookies into 'Essential' and 'Non-essential'\n",
    "essential_purposes = {'Functional', 'Service Improvement', 'Customer Support', 'Operational Efficiency', 'Legal Obligations', 'Compliance', 'Fraud Prevention', 'Security'}\n",
    "non_essential_purposes = {'Analytics', 'Content Customization', 'Advertising',\n",
    "                          'Tracking', 'Social Media','Personalization', 'E-commerce', 'Compliance',\n",
    "                          'Performance Monitoring', 'Market Research', 'User Experience','Customer Feedback'}"
   ]
  },
  {
   "cell_type": "code",
   "execution_count": 42,
   "metadata": {},
   "outputs": [],
   "source": [
    "def collect_data(n):\n",
    "    data = df[n:n+1]\n",
    "    data.reset_index(inplace=True)\n",
    "    cust_fb_data = get_data_collected(data)\n",
    "    flattened = [item.strip() for sublist in cust_fb_data for item in sublist]\n",
    "    var = pd.Series(flattened).unique()\n",
    "\n",
    "    return var"
   ]
  },
  {
   "cell_type": "code",
   "execution_count": 43,
   "metadata": {},
   "outputs": [],
   "source": [
    "personal_data = {'IP Address', 'Session Data', 'Email Address', 'Phone Number', 'Payment Information',\n",
    "                 'Geolocation', 'Purchase History', 'Download History'}\n",
    "\n",
    "# Key phrases to check for policy compliance\n",
    "cpolicy_essential = {'Types of CookiesHere are some examples of the types of cookies we use:', 'Cookie Origin'}\n",
    "third_party_policy = {'Third-Party Processing'}\n",
    "cpolicy_non_essential = {'Types of CookiesHere are some examples of the types of cookies we use:', \n",
    "                         'Cookie Origin', 'Third-Party Processing', 'Consent', 'Managing Cookies'}\n",
    "user_right_policy = {'What Are Your Rights'}\n",
    "\n",
    "alist = []\n",
    "\n",
    "# Function to evaluate conditions\n",
    "def evaluate_policy(origin, collected_data, x, policy_set):\n",
    "    for item in collected_data:\n",
    "        if any(personal_item in personal_data for personal_item in collected_data):\n",
    "            if user_right_policy.issubset(x):\n",
    "                return True\n",
    "            return False\n",
    "    return True\n",
    "\n",
    "# Iterate through the DataFrame rows\n",
    "for i in range(len(df['Cookie Policy'])):\n",
    "    x = set(df['Cookie Policy'][i].split('\\n'))  # Convert to a set for subset checking\n",
    "    y = {df['Purpose'][i]}  # Purpose as a set\n",
    "    collected_data = collect_data(i)\n",
    "\n",
    "    # Check for essential cookies\n",
    "    if y.issubset(essential_purposes):\n",
    "        if (df['Origin'][i] == 'First-party') and cpolicy_essential.issubset(x):\n",
    "            alist.append(evaluate_policy(df['Origin'][i], collected_data, x, cpolicy_essential))\n",
    "        elif (df['Origin'][i] == 'Third-party') and (df['SameParty (if cookie keeps data locally or sends it outside)'][i] == True) and (cpolicy_essential | third_party_policy).issubset(x):\n",
    "            alist.append(evaluate_policy(df['Origin'][i], collected_data, x, cpolicy_essential | third_party_policy))\n",
    "        else:\n",
    "            alist.append(False)\n",
    "\n",
    "    # Check for non-essential cookies\n",
    "    elif y.issubset(non_essential_purposes):\n",
    "        if (df['Origin'][i] == 'First-party') and cpolicy_non_essential.issubset(x):\n",
    "            alist.append(evaluate_policy(df['Origin'][i], collected_data, x, cpolicy_non_essential))\n",
    "        elif (df['Origin'][i] == 'Third-party') and (df['SameParty (if cookie keeps data locally or sends it outside)'][i] == True) and (cpolicy_non_essential | third_party_policy).issubset(x):\n",
    "            alist.append(evaluate_policy(df['Origin'][i], collected_data, x, cpolicy_non_essential | third_party_policy))\n",
    "        else:\n",
    "            alist.append(False)\n",
    "\n",
    "df['Policy compliant'] = alist"
   ]
  },
  {
   "cell_type": "code",
   "execution_count": 44,
   "metadata": {},
   "outputs": [
    {
     "data": {
      "text/html": [
       "<div>\n",
       "<style scoped>\n",
       "    .dataframe tbody tr th:only-of-type {\n",
       "        vertical-align: middle;\n",
       "    }\n",
       "\n",
       "    .dataframe tbody tr th {\n",
       "        vertical-align: top;\n",
       "    }\n",
       "\n",
       "    .dataframe thead th {\n",
       "        text-align: right;\n",
       "    }\n",
       "</style>\n",
       "<table border=\"1\" class=\"dataframe\">\n",
       "  <thead>\n",
       "    <tr style=\"text-align: right;\">\n",
       "      <th></th>\n",
       "      <th>Cookie ID</th>\n",
       "      <th>Expires / Max-Age (in seconds)</th>\n",
       "      <th>Origin</th>\n",
       "      <th>SameParty (if cookie keeps data locally or sends it outside)</th>\n",
       "      <th>Purpose</th>\n",
       "      <th>Data Collected</th>\n",
       "      <th>Cookie Policy</th>\n",
       "      <th>Cookie Options</th>\n",
       "      <th>Consent Required</th>\n",
       "      <th>Duration</th>\n",
       "      <th>expires/max-age (in years)</th>\n",
       "      <th>expiration year &gt; 2</th>\n",
       "      <th>Policy compliant</th>\n",
       "    </tr>\n",
       "  </thead>\n",
       "  <tbody>\n",
       "    <tr>\n",
       "      <th>0</th>\n",
       "      <td>1</td>\n",
       "      <td>60478299</td>\n",
       "      <td>First-party</td>\n",
       "      <td>True</td>\n",
       "      <td>Functional</td>\n",
       "      <td>Network Type; IP Address; Referring URL; Adver...</td>\n",
       "      <td>Cookie Policy\\n\\nIntroduction\\nWe use cookies ...</td>\n",
       "      <td>Decline All, Accept All, Customize cookies</td>\n",
       "      <td>True</td>\n",
       "      <td>Persistent</td>\n",
       "      <td>1.917754e+00</td>\n",
       "      <td>False</td>\n",
       "      <td>False</td>\n",
       "    </tr>\n",
       "    <tr>\n",
       "      <th>1</th>\n",
       "      <td>2</td>\n",
       "      <td>0</td>\n",
       "      <td>First-party</td>\n",
       "      <td>True</td>\n",
       "      <td>Analytics</td>\n",
       "      <td>Advertising Preferences; Device Information; V...</td>\n",
       "      <td>Cookie Policy\\n\\nIntroduction\\nWe use cookies ...</td>\n",
       "      <td>Accept All, Customize cookies</td>\n",
       "      <td>True</td>\n",
       "      <td>Persistent</td>\n",
       "      <td>0.000000e+00</td>\n",
       "      <td>False</td>\n",
       "      <td>True</td>\n",
       "    </tr>\n",
       "    <tr>\n",
       "      <th>2</th>\n",
       "      <td>3</td>\n",
       "      <td>-1</td>\n",
       "      <td>First-party</td>\n",
       "      <td>True</td>\n",
       "      <td>Functional</td>\n",
       "      <td>Flash Version; Referring URL; Operating System...</td>\n",
       "      <td>Cookie Policy\\n\\nIntroduction\\nWe use cookies ...</td>\n",
       "      <td>Decline All, Accept All, Customize cookies</td>\n",
       "      <td>True</td>\n",
       "      <td>Session</td>\n",
       "      <td>-3.170979e-08</td>\n",
       "      <td>False</td>\n",
       "      <td>False</td>\n",
       "    </tr>\n",
       "    <tr>\n",
       "      <th>3</th>\n",
       "      <td>4</td>\n",
       "      <td>0</td>\n",
       "      <td>First-party</td>\n",
       "      <td>True</td>\n",
       "      <td>Service Improvement</td>\n",
       "      <td>Browser; Language Preferences; Download Histor...</td>\n",
       "      <td>Cookie Policy\\n\\nIntroduction\\nWe use cookies ...</td>\n",
       "      <td>Decline All, Accept All, Customize cookies</td>\n",
       "      <td>True</td>\n",
       "      <td>Session</td>\n",
       "      <td>0.000000e+00</td>\n",
       "      <td>False</td>\n",
       "      <td>False</td>\n",
       "    </tr>\n",
       "    <tr>\n",
       "      <th>4</th>\n",
       "      <td>5</td>\n",
       "      <td>0</td>\n",
       "      <td>First-party</td>\n",
       "      <td>True</td>\n",
       "      <td>Content Customization</td>\n",
       "      <td>Network Type; Visited Pages; Error Reports; Fl...</td>\n",
       "      <td>Cookie Policy\\n\\nIntroduction\\nWe use cookies ...</td>\n",
       "      <td>Accept All</td>\n",
       "      <td>True</td>\n",
       "      <td>Session</td>\n",
       "      <td>0.000000e+00</td>\n",
       "      <td>False</td>\n",
       "      <td>False</td>\n",
       "    </tr>\n",
       "  </tbody>\n",
       "</table>\n",
       "</div>"
      ],
      "text/plain": [
       "   Cookie ID  Expires / Max-Age (in seconds)       Origin  \\\n",
       "0          1                        60478299  First-party   \n",
       "1          2                               0  First-party   \n",
       "2          3                              -1  First-party   \n",
       "3          4                               0  First-party   \n",
       "4          5                               0  First-party   \n",
       "\n",
       "   SameParty (if cookie keeps data locally or sends it outside)  \\\n",
       "0                                               True              \n",
       "1                                               True              \n",
       "2                                               True              \n",
       "3                                               True              \n",
       "4                                               True              \n",
       "\n",
       "                 Purpose                                    Data Collected   \\\n",
       "0             Functional  Network Type; IP Address; Referring URL; Adver...   \n",
       "1              Analytics  Advertising Preferences; Device Information; V...   \n",
       "2             Functional  Flash Version; Referring URL; Operating System...   \n",
       "3    Service Improvement  Browser; Language Preferences; Download Histor...   \n",
       "4  Content Customization  Network Type; Visited Pages; Error Reports; Fl...   \n",
       "\n",
       "                                       Cookie Policy  \\\n",
       "0  Cookie Policy\\n\\nIntroduction\\nWe use cookies ...   \n",
       "1  Cookie Policy\\n\\nIntroduction\\nWe use cookies ...   \n",
       "2  Cookie Policy\\n\\nIntroduction\\nWe use cookies ...   \n",
       "3  Cookie Policy\\n\\nIntroduction\\nWe use cookies ...   \n",
       "4  Cookie Policy\\n\\nIntroduction\\nWe use cookies ...   \n",
       "\n",
       "                               Cookie Options  Consent Required    Duration  \\\n",
       "0  Decline All, Accept All, Customize cookies              True  Persistent   \n",
       "1               Accept All, Customize cookies              True  Persistent   \n",
       "2  Decline All, Accept All, Customize cookies              True     Session   \n",
       "3  Decline All, Accept All, Customize cookies              True     Session   \n",
       "4                                  Accept All              True     Session   \n",
       "\n",
       "   expires/max-age (in years)  expiration year > 2  Policy compliant  \n",
       "0                1.917754e+00                False             False  \n",
       "1                0.000000e+00                False              True  \n",
       "2               -3.170979e-08                False             False  \n",
       "3                0.000000e+00                False             False  \n",
       "4                0.000000e+00                False             False  "
      ]
     },
     "execution_count": 44,
     "metadata": {},
     "output_type": "execute_result"
    }
   ],
   "source": [
    "df.head()"
   ]
  },
  {
   "cell_type": "code",
   "execution_count": 45,
   "metadata": {},
   "outputs": [
    {
     "name": "stdout",
     "output_type": "stream",
     "text": [
      "Service Improvement\n",
      "First-party\n",
      "compliant: False\n",
      "534\n",
      "Time Spent on Page; Battery Level; Clickstream Data; Referring URL; Email Address\n",
      "Cookie Policy\n",
      "\n",
      "Introduction\n",
      "We use cookies to enhance your experience on our website. By using our site, you consent to our use of cookies.\n",
      "\n",
      "Types of CookiesHere are some examples of the types of cookies we use:\n",
      "Essential Cookies: Necessary for website functionality.\n",
      "Performance Cookies: Help us understand how you use our site.\n",
      "Functional Cookies: Remember your preferences.\n",
      "Advertising Cookies: Deliver relevant ads.\n",
      "\n",
      "Consent\n",
      "We obtain your consent for non-essential cookies. You can manage your preferences through our cookie settings.\n",
      "\n",
      "Managing Cookies\n",
      "You can control cookies through your browser settings. Blocking cookies may affect website functionality.\n",
      "\n",
      "Contact Us\n",
      "For questions, contact us at below email.\n"
     ]
    }
   ],
   "source": [
    "# Testing the cookie policy compliant rule is working:\n",
    "import random\n",
    "num = random.randint(0,750)\n",
    "\n",
    "print(df['Purpose'][num])\n",
    "print(df['Origin'][num])\n",
    "result = df['Policy compliant'][num]\n",
    "print(f'compliant: {result}')\n",
    "print(num)\n",
    "print(df['Data Collected '][num])\n",
    "print(df['Cookie Policy'][num])\n",
    "\n"
   ]
  },
  {
   "cell_type": "code",
   "execution_count": null,
   "metadata": {},
   "outputs": [],
   "source": []
  }
 ],
 "metadata": {
  "kernelspec": {
   "display_name": "base",
   "language": "python",
   "name": "python3"
  },
  "language_info": {
   "codemirror_mode": {
    "name": "ipython",
    "version": 3
   },
   "file_extension": ".py",
   "mimetype": "text/x-python",
   "name": "python",
   "nbconvert_exporter": "python",
   "pygments_lexer": "ipython3",
   "version": "3.11.7"
  }
 },
 "nbformat": 4,
 "nbformat_minor": 2
}
